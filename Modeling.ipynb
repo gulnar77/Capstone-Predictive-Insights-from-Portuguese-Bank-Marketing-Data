{
 "cells": [
  {
   "cell_type": "markdown",
   "id": "be6d9ed7",
   "metadata": {},
   "source": [
    "# Modeling: Predictive Insights from Portuguese Bank Marketing Data"
   ]
  },
  {
   "cell_type": "code",
   "execution_count": 2,
   "id": "5e0e4c8c",
   "metadata": {},
   "outputs": [],
   "source": [
    "import pandas as pd\n",
    "import numpy as np\n",
    "\n",
    "from sklearn.ensemble import RandomForestClassifier\n",
    "from sklearn.preprocessing import StandardScaler, MinMaxScaler, LabelEncoder, OneHotEncoder\n",
    "from sklearn.model_selection import train_test_split\n",
    "from sklearn.linear_model import LogisticRegression\n",
    "from sklearn.model_selection import cross_val_score\n",
    "from sklearn.model_selection import GridSearchCV\n",
    "\n",
    "from tabulate import tabulate"
   ]
  },
  {
   "cell_type": "markdown",
   "id": "88957ed4",
   "metadata": {},
   "source": [
    "# Data"
   ]
  },
  {
   "cell_type": "code",
   "execution_count": 3,
   "id": "7557f569",
   "metadata": {},
   "outputs": [],
   "source": [
    "# Load the data\n",
    "data_bank = pd.read_csv('data_bank.csv')"
   ]
  },
  {
   "cell_type": "code",
   "execution_count": 4,
   "id": "e9ba7833",
   "metadata": {},
   "outputs": [],
   "source": [
    "# Separate the features and target variable; drop 'duration' variable since it is available after the call \n",
    "X = data_bank.drop(['target','duration'], axis=1)\n",
    "y = data_bank['target']"
   ]
  },
  {
   "cell_type": "code",
   "execution_count": 5,
   "id": "d742b79d",
   "metadata": {},
   "outputs": [],
   "source": [
    "# Convert categorical variables to numerical using one-hot encoding\n",
    "X_encoded = pd.get_dummies(X)"
   ]
  },
  {
   "cell_type": "code",
   "execution_count": 6,
   "id": "214b40c5",
   "metadata": {},
   "outputs": [],
   "source": [
    "# Split the data into training and testing sets\n",
    "\n",
    "X_train, X_test, y_train, y_test = train_test_split(X_encoded, y, test_size=0.2, random_state=42)"
   ]
  },
  {
   "cell_type": "markdown",
   "id": "bc01c4cd",
   "metadata": {},
   "source": [
    "# Modeling\n",
    "# Logistic Regression\n",
    "Hyperparameter tuning for a Logistic Regression model using `GridSearchCV` class from `scikit-learn`. "
   ]
  },
  {
   "cell_type": "code",
   "execution_count": 7,
   "id": "deafd4ad",
   "metadata": {},
   "outputs": [
    {
     "data": {
      "text/plain": [
       "GridSearchCV(estimator=LogisticRegression(),\n",
       "             param_grid={'C': [0.001, 0.01, 0.1, 1, 10], 'max_iter': [1000],\n",
       "                         'penalty': ['l1', 'l2'], 'solver': ['liblinear']},\n",
       "             scoring='roc_auc')"
      ]
     },
     "execution_count": 7,
     "metadata": {},
     "output_type": "execute_result"
    }
   ],
   "source": [
    "from sklearn.model_selection import GridSearchCV\n",
    "lr=LogisticRegression()\n",
    "params = {\"C\": [.001, .01, .1 ,1 ,10], \"penalty\": [\"l1\", \"l2\"], \"solver\":[\"liblinear\"], \"max_iter\":[1000] }\n",
    "gs = GridSearchCV(lr, param_grid = params, scoring = \"roc_auc\")\n",
    "gs.fit(X_train, y_train)"
   ]
  },
  {
   "cell_type": "code",
   "execution_count": 8,
   "id": "db744ba4",
   "metadata": {},
   "outputs": [],
   "source": [
    "model1_preds = gs.fit(X_train, y_train)"
   ]
  },
  {
   "cell_type": "code",
   "execution_count": 9,
   "id": "d04a87a3",
   "metadata": {},
   "outputs": [
    {
     "data": {
      "text/plain": [
       "LogisticRegression(C=0.1, max_iter=1000, solver='liblinear')"
      ]
     },
     "execution_count": 9,
     "metadata": {},
     "output_type": "execute_result"
    }
   ],
   "source": [
    "gs.best_estimator_"
   ]
  },
  {
   "cell_type": "code",
   "execution_count": 10,
   "id": "a64bce40",
   "metadata": {},
   "outputs": [
    {
     "data": {
      "text/plain": [
       "{'C': 0.1, 'max_iter': 1000, 'penalty': 'l2', 'solver': 'liblinear'}"
      ]
     },
     "execution_count": 10,
     "metadata": {},
     "output_type": "execute_result"
    }
   ],
   "source": [
    "gs.best_params_"
   ]
  },
  {
   "cell_type": "code",
   "execution_count": 11,
   "id": "57d17861",
   "metadata": {},
   "outputs": [
    {
     "data": {
      "text/plain": [
       "0.7686832758121489"
      ]
     },
     "execution_count": 11,
     "metadata": {},
     "output_type": "execute_result"
    }
   ],
   "source": [
    "gs.best_score_ "
   ]
  },
  {
   "cell_type": "code",
   "execution_count": 12,
   "id": "2072ffb0",
   "metadata": {},
   "outputs": [
    {
     "data": {
      "text/plain": [
       "{'mean_fit_time': array([0.08880725, 0.17487264, 0.12550659, 0.27159786, 0.312045  ,\n",
       "        0.35390754, 0.59126744, 0.38498621, 0.35083923, 0.62652593]),\n",
       " 'std_fit_time': array([0.01001956, 0.0077704 , 0.00379457, 0.03218269, 0.10234198,\n",
       "        0.03339197, 0.28094155, 0.06471772, 0.16309706, 0.38528884]),\n",
       " 'mean_score_time': array([0.00828896, 0.00754704, 0.00805974, 0.00806937, 0.01022186,\n",
       "        0.00966043, 0.00812602, 0.0134398 , 0.01180015, 0.01112809]),\n",
       " 'std_score_time': array([2.81442064e-04, 7.01988840e-05, 1.37904983e-04, 6.37795797e-04,\n",
       "        2.12069991e-03, 5.89254022e-04, 1.50198179e-04, 6.73099769e-03,\n",
       "        1.56300766e-03, 1.66462779e-03]),\n",
       " 'param_C': masked_array(data=[0.001, 0.001, 0.01, 0.01, 0.1, 0.1, 1, 1, 10, 10],\n",
       "              mask=[False, False, False, False, False, False, False, False,\n",
       "                    False, False],\n",
       "        fill_value='?',\n",
       "             dtype=object),\n",
       " 'param_max_iter': masked_array(data=[1000, 1000, 1000, 1000, 1000, 1000, 1000, 1000, 1000,\n",
       "                    1000],\n",
       "              mask=[False, False, False, False, False, False, False, False,\n",
       "                    False, False],\n",
       "        fill_value='?',\n",
       "             dtype=object),\n",
       " 'param_penalty': masked_array(data=['l1', 'l2', 'l1', 'l2', 'l1', 'l2', 'l1', 'l2', 'l1',\n",
       "                    'l2'],\n",
       "              mask=[False, False, False, False, False, False, False, False,\n",
       "                    False, False],\n",
       "        fill_value='?',\n",
       "             dtype=object),\n",
       " 'param_solver': masked_array(data=['liblinear', 'liblinear', 'liblinear', 'liblinear',\n",
       "                    'liblinear', 'liblinear', 'liblinear', 'liblinear',\n",
       "                    'liblinear', 'liblinear'],\n",
       "              mask=[False, False, False, False, False, False, False, False,\n",
       "                    False, False],\n",
       "        fill_value='?',\n",
       "             dtype=object),\n",
       " 'params': [{'C': 0.001,\n",
       "   'max_iter': 1000,\n",
       "   'penalty': 'l1',\n",
       "   'solver': 'liblinear'},\n",
       "  {'C': 0.001, 'max_iter': 1000, 'penalty': 'l2', 'solver': 'liblinear'},\n",
       "  {'C': 0.01, 'max_iter': 1000, 'penalty': 'l1', 'solver': 'liblinear'},\n",
       "  {'C': 0.01, 'max_iter': 1000, 'penalty': 'l2', 'solver': 'liblinear'},\n",
       "  {'C': 0.1, 'max_iter': 1000, 'penalty': 'l1', 'solver': 'liblinear'},\n",
       "  {'C': 0.1, 'max_iter': 1000, 'penalty': 'l2', 'solver': 'liblinear'},\n",
       "  {'C': 1, 'max_iter': 1000, 'penalty': 'l1', 'solver': 'liblinear'},\n",
       "  {'C': 1, 'max_iter': 1000, 'penalty': 'l2', 'solver': 'liblinear'},\n",
       "  {'C': 10, 'max_iter': 1000, 'penalty': 'l1', 'solver': 'liblinear'},\n",
       "  {'C': 10, 'max_iter': 1000, 'penalty': 'l2', 'solver': 'liblinear'}],\n",
       " 'split0_test_score': array([0.64075836, 0.72475963, 0.73181778, 0.7572514 , 0.76272808,\n",
       "        0.76341641, 0.76276681, 0.76297626, 0.76264988, 0.76278784]),\n",
       " 'split1_test_score': array([0.64282549, 0.74526919, 0.75747017, 0.78471986, 0.78850839,\n",
       "        0.78902896, 0.78876867, 0.78864784, 0.7886538 , 0.78855121]),\n",
       " 'split2_test_score': array([0.63357286, 0.72436157, 0.73675069, 0.76169642, 0.76678843,\n",
       "        0.7655354 , 0.76472679, 0.76513305, 0.76436764, 0.76484707]),\n",
       " 'split3_test_score': array([0.6434815 , 0.72363226, 0.7330703 , 0.75627311, 0.75984395,\n",
       "        0.75984506, 0.75957179, 0.75973527, 0.75963107, 0.75934866]),\n",
       " 'split4_test_score': array([0.62799451, 0.71958067, 0.72421283, 0.75689459, 0.76511781,\n",
       "        0.76559054, 0.76546099, 0.7658504 , 0.76548709, 0.76124387]),\n",
       " 'mean_test_score': array([0.63772654, 0.72752066, 0.73666435, 0.76336708, 0.76859733,\n",
       "        0.76868328, 0.76825901, 0.76846856, 0.76815789, 0.76735573]),\n",
       " 'std_test_score': array([0.0060046 , 0.00906396, 0.01117441, 0.01084759, 0.01022643,\n",
       "        0.01038533, 0.01045547, 0.01031135, 0.01043673, 0.01075058]),\n",
       " 'rank_test_score': array([10,  9,  8,  7,  2,  1,  4,  3,  5,  6], dtype=int32)}"
      ]
     },
     "execution_count": 12,
     "metadata": {},
     "output_type": "execute_result"
    }
   ],
   "source": [
    "gs.cv_results_"
   ]
  },
  {
   "cell_type": "code",
   "execution_count": 13,
   "id": "5f09c129",
   "metadata": {},
   "outputs": [],
   "source": [
    "lr = LogisticRegression(C=10)"
   ]
  },
  {
   "cell_type": "markdown",
   "id": "1251f71d",
   "metadata": {},
   "source": [
    "# Random Forest"
   ]
  },
  {
   "cell_type": "code",
   "execution_count": 14,
   "id": "b0a64ef1",
   "metadata": {},
   "outputs": [
    {
     "data": {
      "text/plain": [
       "GridSearchCV(estimator=RandomForestClassifier(),\n",
       "             param_grid={'max_depth': [1, 5, 20, None],\n",
       "                         'max_features': ['sqrt', 0.1, 0.5],\n",
       "                         'n_estimators': [50, 100, 250]},\n",
       "             scoring='roc_auc')"
      ]
     },
     "execution_count": 14,
     "metadata": {},
     "output_type": "execute_result"
    }
   ],
   "source": [
    "from sklearn.ensemble import RandomForestClassifier\n",
    "from sklearn.model_selection import GridSearchCV\n",
    "\n",
    "# Create a Random Forest model\n",
    "rf = RandomForestClassifier()\n",
    "\n",
    "# Define a parameter grid\n",
    "params = {\n",
    "    \"n_estimators\": [50, 100, 250],\n",
    "    \"max_depth\": [1, 5, 20, None],\n",
    "    \"max_features\": [\"sqrt\", 0.1, 0.5]\n",
    "}\n",
    "\n",
    "# Create a GridSearchCV object\n",
    "gs_rf = GridSearchCV(rf, param_grid=params, scoring=\"roc_auc\")\n",
    "\n",
    "# Fit the GridSearchCV to your training data\n",
    "gs_rf.fit(X_train, y_train)"
   ]
  },
  {
   "cell_type": "code",
   "execution_count": 15,
   "id": "febf4ad3",
   "metadata": {},
   "outputs": [],
   "source": [
    " model2_preds = gs_rf.fit(X_train, y_train)"
   ]
  },
  {
   "cell_type": "code",
   "execution_count": 16,
   "id": "21f518e3",
   "metadata": {},
   "outputs": [
    {
     "name": "stdout",
     "output_type": "stream",
     "text": [
      "{'max_depth': 20, 'max_features': 'sqrt', 'n_estimators': 250}\n"
     ]
    }
   ],
   "source": [
    "# Check the best parameters recommended by GridSearchCV\n",
    "best_params = gs_rf.best_params_\n",
    "print(best_params)"
   ]
  },
  {
   "cell_type": "markdown",
   "id": "40487381",
   "metadata": {},
   "source": [
    "# XGBoost"
   ]
  },
  {
   "cell_type": "code",
   "execution_count": 17,
   "id": "baa65965",
   "metadata": {},
   "outputs": [
    {
     "data": {
      "text/plain": [
       "GridSearchCV(estimator=XGBClassifier(base_score=None, booster=None,\n",
       "                                     callbacks=None, colsample_bylevel=None,\n",
       "                                     colsample_bynode=None,\n",
       "                                     colsample_bytree=None,\n",
       "                                     early_stopping_rounds=None,\n",
       "                                     enable_categorical=False, eval_metric=None,\n",
       "                                     feature_types=None, gamma=None,\n",
       "                                     gpu_id=None, grow_policy=None,\n",
       "                                     importance_type=None,\n",
       "                                     interaction_constraints=None,\n",
       "                                     learning_rate=None, max_bin=None,\n",
       "                                     max_cat_threshold=None,\n",
       "                                     max_cat_to_onehot=None,\n",
       "                                     max_delta_step=None, max_depth=None,\n",
       "                                     max_leaves=None, min_child_weight=None,\n",
       "                                     missing=nan, monotone_constraints=None,\n",
       "                                     n_estimators=100, n_jobs=None,\n",
       "                                     num_parallel_tree=None, predictor=None,\n",
       "                                     random_state=None, ...),\n",
       "             param_grid={'max_depth': [1, 5, 20, None],\n",
       "                         'min_child_weight': [1, 3, 5, 10]},\n",
       "             scoring='roc_auc')"
      ]
     },
     "execution_count": 17,
     "metadata": {},
     "output_type": "execute_result"
    }
   ],
   "source": [
    "from xgboost import XGBClassifier\n",
    "from sklearn.model_selection import GridSearchCV\n",
    "\n",
    "# Create an XGBoost model\n",
    "xgb = XGBClassifier()\n",
    "\n",
    "# Define a parameter grid\n",
    "params = {\n",
    "    \"max_depth\": [1, 5, 20, None],\n",
    "    \"min_child_weight\": [1, 3, 5, 10]\n",
    "}\n",
    "\n",
    "# Create a GridSearchCV object\n",
    "gs_xgb = GridSearchCV(xgb, param_grid=params, scoring=\"roc_auc\")\n",
    "\n",
    "# Fit the GridSearchCV to your training data\n",
    "gs_xgb.fit(X_train, y_train)"
   ]
  },
  {
   "cell_type": "code",
   "execution_count": 18,
   "id": "81555040",
   "metadata": {},
   "outputs": [],
   "source": [
    "model3_preds = gs_xgb.fit(X_train, y_train)"
   ]
  },
  {
   "cell_type": "markdown",
   "id": "568dc8eb",
   "metadata": {},
   "source": [
    "# ROC curve with 3 models"
   ]
  },
  {
   "cell_type": "code",
   "execution_count": 19,
   "id": "8025fdbf",
   "metadata": {},
   "outputs": [
    {
     "name": "stdout",
     "output_type": "stream",
     "text": [
      "ROC AUC for Logistic Regression:  0.7575128820586212\n",
      "ROC AUC for Random Forest:  0.7963829032858931\n",
      "ROC AUC for XGBoost:  0.7898936930473769\n"
     ]
    }
   ],
   "source": [
    "from sklearn.metrics import roc_auc_score\n",
    "\n",
    "# y_test = true labels of the test dataset\n",
    "\n",
    "# For Logistic Regression\n",
    "lr_predictions = gs.predict_proba(X_test)[:, 1]\n",
    "lr_roc_auc = roc_auc_score(y_test, lr_predictions)\n",
    "print(\"ROC AUC for Logistic Regression: \", lr_roc_auc)\n",
    "\n",
    "# For Random Forest\n",
    "rf_predictions = gs_rf.predict_proba(X_test)[:, 1]\n",
    "rf_roc_auc = roc_auc_score(y_test, rf_predictions)\n",
    "print(\"ROC AUC for Random Forest: \", rf_roc_auc)\n",
    "\n",
    "# For XGBoost\n",
    "xgb_predictions = gs_xgb.predict_proba(X_test)[:, 1]\n",
    "xgb_roc_auc = roc_auc_score(y_test, xgb_predictions)\n",
    "print(\"ROC AUC for XGBoost: \", xgb_roc_auc)"
   ]
  },
  {
   "cell_type": "code",
   "execution_count": 20,
   "id": "1a3c25e5",
   "metadata": {},
   "outputs": [
    {
     "data": {
      "image/png": "[encoded data removed]",
      "text/plain": [
       "<Figure size 640x480 with 1 Axes>"
      ]
     },
     "metadata": {},
     "output_type": "display_data"
    },
    {
     "data": {
      "text/plain": [
       "<Figure size 640x480 with 0 Axes>"
      ]
     },
     "metadata": {},
     "output_type": "display_data"
    }
   ],
   "source": [
    "from sklearn.metrics import roc_curve\n",
    "import matplotlib.pyplot as plt\n",
    "\n",
    "# For Logistic Regression\n",
    "fpr, tpr, _ = roc_curve(y_test, lr_predictions)\n",
    "plt.plot(fpr, tpr, label='Logistic Regression (area = %0.2f)' % lr_roc_auc)\n",
    "\n",
    "# For Random Forest\n",
    "fpr, tpr, _ = roc_curve(y_test, rf_predictions)\n",
    "plt.plot(fpr, tpr, label='Random Forest (area = %0.2f)' % rf_roc_auc)\n",
    "\n",
    "# For XGBoost\n",
    "fpr, tpr, _ = roc_curve(y_test, xgb_predictions)\n",
    "plt.plot(fpr, tpr, label='XGBoost (area = %0.2f)' % xgb_roc_auc)\n",
    "\n",
    "# Plotting ROC for all models\n",
    "plt.plot([0, 1], [0, 1],'r--')\n",
    "plt.xlim([0.0, 1.0])\n",
    "plt.ylim([0.0, 1.05])\n",
    "plt.xlabel('False Positive Rate')\n",
    "plt.ylabel('True Positive Rate')\n",
    "plt.title('Figure 5.1:Receiver Operating Characteristic')\n",
    "plt.legend(loc=\"lower right\")\n",
    "plt.show()\n",
    "\n",
    "# Save the plot as PNG\n",
    "plt.savefig('ROC_curve.png')"
   ]
  },
  {
   "cell_type": "markdown",
   "id": "914bd04a",
   "metadata": {},
   "source": [
    "# Threshold vs. Profitability curve \n",
    "In this code, we first define a function calculate_profit that calculates the profit for a given threshold. This function first applies the threshold to the predicted probabilities to get the predicted classes. It then calculates the number of true positives and the number of predicted positives. The revenue is calculated as the number of true positives times the revenue per subscription, and the cost is calculated as the number of predicted positives times the cost per call. The profit is then the difference between the revenue and the cost.\n",
    "\n",
    "We then define the revenue per subscription and the cost per call and a range of thresholds. We calculate the profit for each threshold and plot the threshold vs the profitability."
   ]
  },
  {
   "cell_type": "code",
   "execution_count": 22,
   "id": "618cf1e2",
   "metadata": {},
   "outputs": [
    {
     "data": {
      "image/png": "[encoded data removed]",
      "text/plain": [
       "<Figure size 640x480 with 1 Axes>"
      ]
     },
     "metadata": {},
     "output_type": "display_data"
    },
    {
     "data": {
      "text/plain": [
       "<Figure size 640x480 with 0 Axes>"
      ]
     },
     "metadata": {},
     "output_type": "display_data"
    }
   ],
   "source": [
    "def calculate_profit(y_pred, y_true, threshold, revenue_per_sub, cost_per_call):\n",
    "    # Apply threshold to positive probabilities\n",
    "    y_pred_threshold = (y_pred > threshold).astype(int)\n",
    "    \n",
    "    # Calculate true positives\n",
    "    true_positives = np.sum((y_pred_threshold == 1) & (y_true == 1))\n",
    "    \n",
    "    # Calculate predicted positives\n",
    "    predicted_positives = np.sum(y_pred_threshold)\n",
    "    \n",
    "    # Calculate revenue and cost\n",
    "    revenue = true_positives * revenue_per_sub\n",
    "    cost = predicted_positives * cost_per_call\n",
    "    \n",
    "    # Calculate profit\n",
    "    profit = revenue - cost\n",
    "    \n",
    "    return profit\n",
    "\n",
    "# Define revenue per subscription and cost per call\n",
    "revenue_per_sub = 30 # assumed value,deposit =1000 euros, net investmet margin at 3%, revenue per sub is 30 euros\n",
    "cost_per_call = 6  # cost per call according to www.qualtrics.com\n",
    "\n",
    "# Define range of thresholds\n",
    "thresholds = np.linspace(0, 1, 100)\n",
    "\n",
    "# Calculate profit for each threshold\n",
    "profits = [calculate_profit(rf_predictions, y_test, threshold, revenue_per_sub, cost_per_call) \n",
    "           for threshold in thresholds]\n",
    "\n",
    "# Find the index of the maximum profit\n",
    "max_index = np.argmax(profits)\n",
    "max_threshold = thresholds[max_index]\n",
    "\n",
    "# Plot threshold vs profitability\n",
    "plt.plot(thresholds, profits)\n",
    "plt.axvline(x=max_threshold, color='r', linestyle='--')  # vertical line at the threshold with maximum profit\n",
    "plt.xlabel('Threshold')\n",
    "plt.ylabel('Profitability')\n",
    "plt.title('Figure 6.1:Threshold vs Profitability')\n",
    "plt.show()\n",
    "\n",
    "# Save the plot as PNG\n",
    "plt.savefig('threshold_vs_profitability.png')"
   ]
  },
  {
   "cell_type": "markdown",
   "id": "ff0550d9",
   "metadata": {},
   "source": [
    "# Classification Report: Random Forest"
   ]
  },
  {
   "cell_type": "code",
   "execution_count": null,
   "id": "ce6206ee",
   "metadata": {},
   "outputs": [],
   "source": [
    "from sklearn.ensemble import RandomForestClassifier\n",
    "from sklearn.metrics import classification_report\n",
    "\n",
    "\n",
    "# Create an instance of RandomForestClassifier \n",
    "rf_classifier = RandomForestClassifier(max_depth=20, max_features='sqrt', n_estimators=250)\n",
    "\n",
    "\n",
    "# Fit the model on your training data\n",
    "rf_classifier.fit(X_train, y_train)\n",
    "\n",
    "# Now you can use the fitted model for prediction or evaluation\n",
    "predictions = rf_classifier.predict(X_test)\n",
    "\n",
    "report = classification_report(y_test,predictions)\n",
    "print(report)"
   ]
  },
  {
   "cell_type": "code",
   "execution_count": null,
   "id": "e09c586e",
   "metadata": {},
   "outputs": [],
   "source": [
    "import pandas as pd\n",
    "# Generate the classification report\n",
    "report = classification_report(y_test, predictions, output_dict=True)\n",
    "\n",
    "# Convert the classification report to a DataFrame\n",
    "df_report = pd.DataFrame(report).transpose().round(4)\n",
    "\n",
    "# Save the DataFrame as a CSV file\n",
    "df_report.to_csv('classification_report.csv', index=True)"
   ]
  },
  {
   "cell_type": "code",
   "execution_count": null,
   "id": "8388b8e4",
   "metadata": {},
   "outputs": [],
   "source": []
  }
 ],
 "metadata": {
  "kernelspec": {
   "display_name": "Python 3 (ipykernel)",
   "language": "python",
   "name": "python3"
  },
  "language_info": {
   "codemirror_mode": {
    "name": "ipython",
    "version": 3
   },
   "file_extension": ".py",
   "mimetype": "text/x-python",
   "name": "python",
   "nbconvert_exporter": "python",
   "pygments_lexer": "ipython3",
   "version": "3.9.13"
  }
 },
 "nbformat": 4,
 "nbformat_minor": 5
}
